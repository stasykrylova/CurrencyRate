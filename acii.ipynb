{
 "cells": [
  {
   "cell_type": "code",
   "execution_count": 1,
   "metadata": {},
   "outputs": [
    {
     "name": "stdout",
     "output_type": "stream",
     "text": [
      "Requirement already satisfied: yfinance in c:\\users\\proger\\anaconda3\\lib\\site-packages (0.1.59)\n",
      "Requirement already satisfied: pandas>=0.24 in c:\\users\\proger\\anaconda3\\lib\\site-packages (from yfinance) (1.1.3)\n",
      "Requirement already satisfied: lxml>=4.5.1 in c:\\users\\proger\\anaconda3\\lib\\site-packages (from yfinance) (4.6.1)\n",
      "Requirement already satisfied: requests>=2.20 in c:\\users\\proger\\anaconda3\\lib\\site-packages (from yfinance) (2.24.0)\n",
      "Requirement already satisfied: numpy>=1.15 in c:\\users\\proger\\anaconda3\\lib\\site-packages (from yfinance) (1.19.2)\n",
      "Requirement already satisfied: multitasking>=0.0.7 in c:\\users\\proger\\anaconda3\\lib\\site-packages (from yfinance) (0.0.9)\n",
      "Requirement already satisfied: pytz>=2017.2 in c:\\users\\proger\\anaconda3\\lib\\site-packages (from pandas>=0.24->yfinance) (2020.1)\n",
      "Requirement already satisfied: python-dateutil>=2.7.3 in c:\\users\\proger\\anaconda3\\lib\\site-packages (from pandas>=0.24->yfinance) (2.8.1)\n",
      "Requirement already satisfied: chardet<4,>=3.0.2 in c:\\users\\proger\\anaconda3\\lib\\site-packages (from requests>=2.20->yfinance) (3.0.4)\n",
      "Requirement already satisfied: certifi>=2017.4.17 in c:\\users\\proger\\anaconda3\\lib\\site-packages (from requests>=2.20->yfinance) (2020.6.20)\n",
      "Requirement already satisfied: idna<3,>=2.5 in c:\\users\\proger\\anaconda3\\lib\\site-packages (from requests>=2.20->yfinance) (2.10)\n",
      "Requirement already satisfied: urllib3!=1.25.0,!=1.25.1,<1.26,>=1.21.1 in c:\\users\\proger\\anaconda3\\lib\\site-packages (from requests>=2.20->yfinance) (1.25.11)\n",
      "Requirement already satisfied: six>=1.5 in c:\\users\\proger\\anaconda3\\lib\\site-packages (from python-dateutil>=2.7.3->pandas>=0.24->yfinance) (1.15.0)\n"
     ]
    }
   ],
   "source": [
    "import sys\n",
    "!{sys.executable} -m pip install yfinance "
   ]
  },
  {
   "cell_type": "code",
   "execution_count": 2,
   "metadata": {},
   "outputs": [
    {
     "name": "stdout",
     "output_type": "stream",
     "text": [
      "[*********************100%***********************]  1 of 1 completed\n"
     ]
    },
    {
     "data": {
      "image/png": "[encoded data removed]",
      "text/plain": [
       "<Figure size 432x288 with 1 Axes>"
      ]
     },
     "metadata": {
      "needs_background": "light"
     },
     "output_type": "display_data"
    }
   ],
   "source": [
    "import yfinance as yf\n",
    "\n",
    "# Get the data for the stock AAPL\n",
    "data = yf.download('AAPL','2021-01-01','2021-01-12')\n",
    "\n",
    "# Import the plotting library\n",
    "import matplotlib.pyplot as plt\n",
    "%matplotlib inline\n",
    "\n",
    "# Plot the close price of the AAPL\n",
    "data['Adj Close'].plot()\n",
    "plt.show()"
   ]
  },
  {
   "cell_type": "code",
   "execution_count": 3,
   "metadata": {},
   "outputs": [
    {
     "name": "stdout",
     "output_type": "stream",
     "text": [
      "[*********************100%***********************]  1 of 1 completed\n",
      "[*********************100%***********************]  1 of 1 completed\n",
      "[*********************100%***********************]  1 of 1 completed\n",
      "[*********************100%***********************]  1 of 1 completed\n",
      "[*********************100%***********************]  1 of 1 completed\n",
      "[*********************100%***********************]  1 of 1 completed\n"
     ]
    },
    {
     "data": {
      "text/html": [
       "<div>\n",
       "<style scoped>\n",
       "    .dataframe tbody tr th:only-of-type {\n",
       "        vertical-align: middle;\n",
       "    }\n",
       "\n",
       "    .dataframe tbody tr th {\n",
       "        vertical-align: top;\n",
       "    }\n",
       "\n",
       "    .dataframe thead th {\n",
       "        text-align: right;\n",
       "    }\n",
       "</style>\n",
       "<table border=\"1\" class=\"dataframe\">\n",
       "  <thead>\n",
       "    <tr style=\"text-align: right;\">\n",
       "      <th></th>\n",
       "      <th>AAPL</th>\n",
       "      <th>WMT</th>\n",
       "      <th>IBM</th>\n",
       "      <th>MU</th>\n",
       "      <th>BA</th>\n",
       "      <th>AXP</th>\n",
       "    </tr>\n",
       "    <tr>\n",
       "      <th>Date</th>\n",
       "      <th></th>\n",
       "      <th></th>\n",
       "      <th></th>\n",
       "      <th></th>\n",
       "      <th></th>\n",
       "      <th></th>\n",
       "    </tr>\n",
       "  </thead>\n",
       "  <tbody>\n",
       "    <tr>\n",
       "      <th>2019-12-02</th>\n",
       "      <td>65.376869</td>\n",
       "      <td>116.312004</td>\n",
       "      <td>124.621735</td>\n",
       "      <td>46.389999</td>\n",
       "      <td>353.079285</td>\n",
       "      <td>114.456810</td>\n",
       "    </tr>\n",
       "    <tr>\n",
       "      <th>2019-12-03</th>\n",
       "      <td>64.211189</td>\n",
       "      <td>115.717178</td>\n",
       "      <td>123.880981</td>\n",
       "      <td>45.230000</td>\n",
       "      <td>349.997620</td>\n",
       "      <td>113.783302</td>\n",
       "    </tr>\n",
       "    <tr>\n",
       "      <th>2019-12-04</th>\n",
       "      <td>64.777939</td>\n",
       "      <td>115.736671</td>\n",
       "      <td>123.759102</td>\n",
       "      <td>46.299999</td>\n",
       "      <td>346.776764</td>\n",
       "      <td>115.120560</td>\n",
       "    </tr>\n",
       "    <tr>\n",
       "      <th>2019-12-05</th>\n",
       "      <td>65.728294</td>\n",
       "      <td>116.226425</td>\n",
       "      <td>123.684074</td>\n",
       "      <td>46.619999</td>\n",
       "      <td>343.635468</td>\n",
       "      <td>115.452415</td>\n",
       "    </tr>\n",
       "    <tr>\n",
       "      <th>2019-12-06</th>\n",
       "      <td>66.997925</td>\n",
       "      <td>117.323456</td>\n",
       "      <td>124.912384</td>\n",
       "      <td>47.930000</td>\n",
       "      <td>351.995728</td>\n",
       "      <td>117.726723</td>\n",
       "    </tr>\n",
       "  </tbody>\n",
       "</table>\n",
       "</div>"
      ],
      "text/plain": [
       "                 AAPL         WMT         IBM         MU          BA  \\\n",
       "Date                                                                   \n",
       "2019-12-02  65.376869  116.312004  124.621735  46.389999  353.079285   \n",
       "2019-12-03  64.211189  115.717178  123.880981  45.230000  349.997620   \n",
       "2019-12-04  64.777939  115.736671  123.759102  46.299999  346.776764   \n",
       "2019-12-05  65.728294  116.226425  123.684074  46.619999  343.635468   \n",
       "2019-12-06  66.997925  117.323456  124.912384  47.930000  351.995728   \n",
       "\n",
       "                   AXP  \n",
       "Date                    \n",
       "2019-12-02  114.456810  \n",
       "2019-12-03  113.783302  \n",
       "2019-12-04  115.120560  \n",
       "2019-12-05  115.452415  \n",
       "2019-12-06  117.726723  "
      ]
     },
     "execution_count": 3,
     "metadata": {},
     "output_type": "execute_result"
    }
   ],
   "source": [
    "import pandas as pd\n",
    "tickers_list = ['AAPL', 'WMT', 'IBM', 'MU', 'BA', 'AXP']\n",
    "\n",
    "# Import pandas\n",
    "data = pd.DataFrame(columns=tickers_list)\n",
    "\n",
    "# Fetch the data\n",
    "\n",
    "for ticker in tickers_list:\n",
    "    data[ticker] = yf.download(ticker,'2019-12-01','2021-01-10')['Adj Close']\n",
    "\n",
    "# Print first 5 rows of the data\n",
    "data.head()"
   ]
  },
  {
   "cell_type": "code",
   "execution_count": 4,
   "metadata": {},
   "outputs": [
    {
     "name": "stdout",
     "output_type": "stream",
     "text": [
      "[*********************100%***********************]  1 of 1 completed\n",
      "[*********************100%***********************]  1 of 1 completed\n",
      "[*********************100%***********************]  1 of 1 completed\n",
      "[*********************100%***********************]  1 of 1 completed\n",
      "[*********************100%***********************]  1 of 1 completed\n"
     ]
    }
   ],
   "source": [
    "import datetime\n",
    "from datetime import timedelta\n",
    "now = datetime.datetime.now()\n",
    "ths=now.strftime(\"%Y-%m-%d\")\n",
    "thirty_days = timedelta(days=1000)\n",
    "last_month= now-thirty_days\n",
    "lst=last_month.strftime(\"%Y-%m-%d\")\n",
    "tickers_list = ['LNTA.ME','MGNT.ME', 'MTSS.ME', 'YNDX.ME','SBER.ME', ]\n",
    "dat = pd.DataFrame(columns=tickers_list)\n",
    "for ticker in tickers_list:\n",
    "    dat[ticker] = yf.download(ticker,'2019-01-01','2021-01-10')['Adj Close']"
   ]
  },
  {
   "cell_type": "code",
   "execution_count": 5,
   "metadata": {},
   "outputs": [
    {
     "data": {
      "text/html": [
       "<div>\n",
       "<style scoped>\n",
       "    .dataframe tbody tr th:only-of-type {\n",
       "        vertical-align: middle;\n",
       "    }\n",
       "\n",
       "    .dataframe tbody tr th {\n",
       "        vertical-align: top;\n",
       "    }\n",
       "\n",
       "    .dataframe thead th {\n",
       "        text-align: right;\n",
       "    }\n",
       "</style>\n",
       "<table border=\"1\" class=\"dataframe\">\n",
       "  <thead>\n",
       "    <tr style=\"text-align: right;\">\n",
       "      <th></th>\n",
       "      <th>LNTA.ME</th>\n",
       "      <th>MGNT.ME</th>\n",
       "      <th>MTSS.ME</th>\n",
       "      <th>YNDX.ME</th>\n",
       "      <th>SBER.ME</th>\n",
       "    </tr>\n",
       "    <tr>\n",
       "      <th>Date</th>\n",
       "      <th></th>\n",
       "      <th></th>\n",
       "      <th></th>\n",
       "      <th></th>\n",
       "      <th></th>\n",
       "    </tr>\n",
       "  </thead>\n",
       "  <tbody>\n",
       "    <tr>\n",
       "      <th>2019-01-03</th>\n",
       "      <td>213.800003</td>\n",
       "      <td>3006.912354</td>\n",
       "      <td>189.921783</td>\n",
       "      <td>1859.500000</td>\n",
       "      <td>131.953506</td>\n",
       "    </tr>\n",
       "    <tr>\n",
       "      <th>2019-01-04</th>\n",
       "      <td>211.199997</td>\n",
       "      <td>3027.093018</td>\n",
       "      <td>196.318329</td>\n",
       "      <td>1916.000000</td>\n",
       "      <td>134.776184</td>\n",
       "    </tr>\n",
       "    <tr>\n",
       "      <th>2019-01-08</th>\n",
       "      <td>211.600006</td>\n",
       "      <td>3094.361816</td>\n",
       "      <td>197.463364</td>\n",
       "      <td>1926.500000</td>\n",
       "      <td>134.952591</td>\n",
       "    </tr>\n",
       "    <tr>\n",
       "      <th>2019-01-09</th>\n",
       "      <td>210.600006</td>\n",
       "      <td>3109.917480</td>\n",
       "      <td>199.003281</td>\n",
       "      <td>1960.000000</td>\n",
       "      <td>139.017258</td>\n",
       "    </tr>\n",
       "    <tr>\n",
       "      <th>2019-01-10</th>\n",
       "      <td>213.600006</td>\n",
       "      <td>3220.490234</td>\n",
       "      <td>202.162064</td>\n",
       "      <td>1985.000000</td>\n",
       "      <td>138.840851</td>\n",
       "    </tr>\n",
       "    <tr>\n",
       "      <th>...</th>\n",
       "      <td>...</td>\n",
       "      <td>...</td>\n",
       "      <td>...</td>\n",
       "      <td>...</td>\n",
       "      <td>...</td>\n",
       "    </tr>\n",
       "    <tr>\n",
       "      <th>2020-12-30</th>\n",
       "      <td>262.700012</td>\n",
       "      <td>5427.033691</td>\n",
       "      <td>331.500000</td>\n",
       "      <td>5157.200195</td>\n",
       "      <td>270.660004</td>\n",
       "    </tr>\n",
       "    <tr>\n",
       "      <th>2021-01-04</th>\n",
       "      <td>268.000000</td>\n",
       "      <td>5503.612793</td>\n",
       "      <td>334.100006</td>\n",
       "      <td>5158.600098</td>\n",
       "      <td>274.679993</td>\n",
       "    </tr>\n",
       "    <tr>\n",
       "      <th>2021-01-05</th>\n",
       "      <td>273.700012</td>\n",
       "      <td>5490.689941</td>\n",
       "      <td>337.700012</td>\n",
       "      <td>5285.399902</td>\n",
       "      <td>273.519989</td>\n",
       "    </tr>\n",
       "    <tr>\n",
       "      <th>2021-01-06</th>\n",
       "      <td>272.100006</td>\n",
       "      <td>5511.000000</td>\n",
       "      <td>334.500000</td>\n",
       "      <td>5228.200195</td>\n",
       "      <td>273.929993</td>\n",
       "    </tr>\n",
       "    <tr>\n",
       "      <th>2021-01-08</th>\n",
       "      <td>272.100006</td>\n",
       "      <td>5511.000000</td>\n",
       "      <td>334.500000</td>\n",
       "      <td>5228.200195</td>\n",
       "      <td>273.929993</td>\n",
       "    </tr>\n",
       "  </tbody>\n",
       "</table>\n",
       "<p>506 rows × 5 columns</p>\n",
       "</div>"
      ],
      "text/plain": [
       "               LNTA.ME      MGNT.ME     MTSS.ME      YNDX.ME     SBER.ME\n",
       "Date                                                                    \n",
       "2019-01-03  213.800003  3006.912354  189.921783  1859.500000  131.953506\n",
       "2019-01-04  211.199997  3027.093018  196.318329  1916.000000  134.776184\n",
       "2019-01-08  211.600006  3094.361816  197.463364  1926.500000  134.952591\n",
       "2019-01-09  210.600006  3109.917480  199.003281  1960.000000  139.017258\n",
       "2019-01-10  213.600006  3220.490234  202.162064  1985.000000  138.840851\n",
       "...                ...          ...         ...          ...         ...\n",
       "2020-12-30  262.700012  5427.033691  331.500000  5157.200195  270.660004\n",
       "2021-01-04  268.000000  5503.612793  334.100006  5158.600098  274.679993\n",
       "2021-01-05  273.700012  5490.689941  337.700012  5285.399902  273.519989\n",
       "2021-01-06  272.100006  5511.000000  334.500000  5228.200195  273.929993\n",
       "2021-01-08  272.100006  5511.000000  334.500000  5228.200195  273.929993\n",
       "\n",
       "[506 rows x 5 columns]"
      ]
     },
     "execution_count": 5,
     "metadata": {},
     "output_type": "execute_result"
    }
   ],
   "source": [
    "dat"
   ]
  },
  {
   "cell_type": "code",
   "execution_count": 6,
   "metadata": {},
   "outputs": [],
   "source": [
    "from pandas.plotting import table \n",
    "import subprocess"
   ]
  },
  {
   "cell_type": "code",
   "execution_count": 7,
   "metadata": {},
   "outputs": [
    {
     "name": "stdout",
     "output_type": "stream",
     "text": [
      "[*********************100%***********************]  1 of 1 completed\n",
      "[*********************100%***********************]  1 of 1 completed\n",
      "[*********************100%***********************]  1 of 1 completed\n",
      "[*********************100%***********************]  1 of 1 completed\n",
      "[*********************100%***********************]  1 of 1 completed\n"
     ]
    }
   ],
   "source": [
    "t = ['LNTA.ME','MGNT.ME', 'MTSS.ME', 'YNDX.ME','SBER.ME' ]\n",
    "d = pd.DataFrame(columns=tickers_list)\n",
    "for ticker in tickers_list:\n",
    "    d[ticker] = yf.download(ticker,'2019-12-01','2020-01-10')['Adj Close']\n"
   ]
  },
  {
   "cell_type": "code",
   "execution_count": 8,
   "metadata": {},
   "outputs": [],
   "source": [
    "from bokeh.io import export_png, export_svgs\n",
    "from bokeh.models import ColumnDataSource, DataTable, TableColumn"
   ]
  },
  {
   "cell_type": "code",
   "execution_count": 9,
   "metadata": {},
   "outputs": [
    {
     "data": {
      "text/plain": [
       "'C:\\\\Users\\\\proger\\\\Untitled Folder\\\\new.png'"
      ]
     },
     "execution_count": 9,
     "metadata": {},
     "output_type": "execute_result"
    }
   ],
   "source": [
    "source = ColumnDataSource(d)\n",
    "df_columns = [d.index.name]\n",
    "df_columns.extend(d.columns.values)\n",
    "columns_for_table=[]\n",
    "for column in df_columns:\n",
    "    columns_for_table.append(TableColumn(field=column, title=column))\n",
    "\n",
    "data_table = DataTable(source=source, columns=columns_for_table,height_policy=\"auto\",width_policy=\"auto\",index_position=None)\n",
    "export_png(data_table, filename = 'new.png')"
   ]
  },
  {
   "cell_type": "code",
   "execution_count": 10,
   "metadata": {},
   "outputs": [
    {
     "data": {
      "text/html": [
       "<div>\n",
       "<style scoped>\n",
       "    .dataframe tbody tr th:only-of-type {\n",
       "        vertical-align: middle;\n",
       "    }\n",
       "\n",
       "    .dataframe tbody tr th {\n",
       "        vertical-align: top;\n",
       "    }\n",
       "\n",
       "    .dataframe thead th {\n",
       "        text-align: right;\n",
       "    }\n",
       "</style>\n",
       "<table border=\"1\" class=\"dataframe\">\n",
       "  <thead>\n",
       "    <tr style=\"text-align: right;\">\n",
       "      <th></th>\n",
       "      <th>LNTA.ME</th>\n",
       "      <th>MGNT.ME</th>\n",
       "      <th>MTSS.ME</th>\n",
       "      <th>YNDX.ME</th>\n",
       "      <th>SBER.ME</th>\n",
       "    </tr>\n",
       "    <tr>\n",
       "      <th>Date</th>\n",
       "      <th></th>\n",
       "      <th></th>\n",
       "      <th></th>\n",
       "      <th></th>\n",
       "      <th></th>\n",
       "    </tr>\n",
       "  </thead>\n",
       "  <tbody>\n",
       "    <tr>\n",
       "      <th>2019-12-02</th>\n",
       "      <td>203.399994</td>\n",
       "      <td>2861.976807</td>\n",
       "      <td>268.278503</td>\n",
       "      <td>2620.600098</td>\n",
       "      <td>176.292862</td>\n",
       "    </tr>\n",
       "    <tr>\n",
       "      <th>2019-12-03</th>\n",
       "      <td>202.500000</td>\n",
       "      <td>2797.321777</td>\n",
       "      <td>265.866302</td>\n",
       "      <td>2599.000000</td>\n",
       "      <td>173.947525</td>\n",
       "    </tr>\n",
       "    <tr>\n",
       "      <th>2019-12-04</th>\n",
       "      <td>201.899994</td>\n",
       "      <td>2810.956787</td>\n",
       "      <td>266.304871</td>\n",
       "      <td>2607.399902</td>\n",
       "      <td>174.648849</td>\n",
       "    </tr>\n",
       "    <tr>\n",
       "      <th>2019-12-05</th>\n",
       "      <td>202.000000</td>\n",
       "      <td>2814.035400</td>\n",
       "      <td>266.743469</td>\n",
       "      <td>2568.399902</td>\n",
       "      <td>174.739349</td>\n",
       "    </tr>\n",
       "    <tr>\n",
       "      <th>2019-12-06</th>\n",
       "      <td>200.800003</td>\n",
       "      <td>2821.072754</td>\n",
       "      <td>263.848846</td>\n",
       "      <td>2570.399902</td>\n",
       "      <td>177.326019</td>\n",
       "    </tr>\n",
       "    <tr>\n",
       "      <th>2019-12-09</th>\n",
       "      <td>200.699997</td>\n",
       "      <td>2842.624756</td>\n",
       "      <td>265.339996</td>\n",
       "      <td>2584.000000</td>\n",
       "      <td>178.758865</td>\n",
       "    </tr>\n",
       "    <tr>\n",
       "      <th>2019-12-10</th>\n",
       "      <td>200.300003</td>\n",
       "      <td>2844.823486</td>\n",
       "      <td>265.252289</td>\n",
       "      <td>2588.000000</td>\n",
       "      <td>179.414963</td>\n",
       "    </tr>\n",
       "    <tr>\n",
       "      <th>2019-12-11</th>\n",
       "      <td>200.500000</td>\n",
       "      <td>2841.744873</td>\n",
       "      <td>267.708344</td>\n",
       "      <td>2595.000000</td>\n",
       "      <td>181.232407</td>\n",
       "    </tr>\n",
       "    <tr>\n",
       "      <th>2019-12-12</th>\n",
       "      <td>197.800003</td>\n",
       "      <td>2845.703369</td>\n",
       "      <td>267.620605</td>\n",
       "      <td>2628.000000</td>\n",
       "      <td>181.782928</td>\n",
       "    </tr>\n",
       "    <tr>\n",
       "      <th>2019-12-13</th>\n",
       "      <td>195.899994</td>\n",
       "      <td>2872.532959</td>\n",
       "      <td>267.006592</td>\n",
       "      <td>2662.800049</td>\n",
       "      <td>181.903595</td>\n",
       "    </tr>\n",
       "    <tr>\n",
       "      <th>2019-12-16</th>\n",
       "      <td>197.000000</td>\n",
       "      <td>2872.532959</td>\n",
       "      <td>269.155640</td>\n",
       "      <td>2690.000000</td>\n",
       "      <td>182.084579</td>\n",
       "    </tr>\n",
       "    <tr>\n",
       "      <th>2019-12-17</th>\n",
       "      <td>197.899994</td>\n",
       "      <td>2878.690430</td>\n",
       "      <td>272.971283</td>\n",
       "      <td>2660.000000</td>\n",
       "      <td>182.197693</td>\n",
       "    </tr>\n",
       "    <tr>\n",
       "      <th>2019-12-18</th>\n",
       "      <td>193.600006</td>\n",
       "      <td>2877.371338</td>\n",
       "      <td>275.295776</td>\n",
       "      <td>2625.000000</td>\n",
       "      <td>185.666702</td>\n",
       "    </tr>\n",
       "    <tr>\n",
       "      <th>2019-12-19</th>\n",
       "      <td>195.000000</td>\n",
       "      <td>2881.769531</td>\n",
       "      <td>273.936096</td>\n",
       "      <td>2623.199951</td>\n",
       "      <td>184.007599</td>\n",
       "    </tr>\n",
       "    <tr>\n",
       "      <th>2019-12-20</th>\n",
       "      <td>194.000000</td>\n",
       "      <td>2900.242188</td>\n",
       "      <td>275.164185</td>\n",
       "      <td>2680.000000</td>\n",
       "      <td>184.543045</td>\n",
       "    </tr>\n",
       "    <tr>\n",
       "      <th>2019-12-23</th>\n",
       "      <td>193.899994</td>\n",
       "      <td>2938.067627</td>\n",
       "      <td>275.471161</td>\n",
       "      <td>2699.800049</td>\n",
       "      <td>187.627426</td>\n",
       "    </tr>\n",
       "    <tr>\n",
       "      <th>2019-12-24</th>\n",
       "      <td>194.199997</td>\n",
       "      <td>2965.777100</td>\n",
       "      <td>275.427307</td>\n",
       "      <td>2688.000000</td>\n",
       "      <td>187.529388</td>\n",
       "    </tr>\n",
       "    <tr>\n",
       "      <th>2019-12-25</th>\n",
       "      <td>193.899994</td>\n",
       "      <td>3004.921875</td>\n",
       "      <td>278.979797</td>\n",
       "      <td>2687.000000</td>\n",
       "      <td>187.054276</td>\n",
       "    </tr>\n",
       "    <tr>\n",
       "      <th>2019-12-26</th>\n",
       "      <td>194.100006</td>\n",
       "      <td>3033.950684</td>\n",
       "      <td>280.427124</td>\n",
       "      <td>2713.000000</td>\n",
       "      <td>187.205124</td>\n",
       "    </tr>\n",
       "    <tr>\n",
       "      <th>2019-12-27</th>\n",
       "      <td>193.000000</td>\n",
       "      <td>3015.477783</td>\n",
       "      <td>280.690277</td>\n",
       "      <td>2736.000000</td>\n",
       "      <td>190.085876</td>\n",
       "    </tr>\n",
       "    <tr>\n",
       "      <th>2019-12-30</th>\n",
       "      <td>192.000000</td>\n",
       "      <td>3012.838867</td>\n",
       "      <td>280.646423</td>\n",
       "      <td>2697.000000</td>\n",
       "      <td>192.114487</td>\n",
       "    </tr>\n",
       "    <tr>\n",
       "      <th>2020-01-03</th>\n",
       "      <td>191.800003</td>\n",
       "      <td>3030.872070</td>\n",
       "      <td>282.532288</td>\n",
       "      <td>2685.000000</td>\n",
       "      <td>192.303024</td>\n",
       "    </tr>\n",
       "    <tr>\n",
       "      <th>2020-01-06</th>\n",
       "      <td>192.000000</td>\n",
       "      <td>3004.921875</td>\n",
       "      <td>283.716492</td>\n",
       "      <td>2672.000000</td>\n",
       "      <td>191.473480</td>\n",
       "    </tr>\n",
       "    <tr>\n",
       "      <th>2020-01-08</th>\n",
       "      <td>191.600006</td>\n",
       "      <td>3014.598145</td>\n",
       "      <td>287.839081</td>\n",
       "      <td>2677.000000</td>\n",
       "      <td>195.432678</td>\n",
       "    </tr>\n",
       "    <tr>\n",
       "      <th>2020-01-09</th>\n",
       "      <td>192.000000</td>\n",
       "      <td>3077.274170</td>\n",
       "      <td>296.431305</td>\n",
       "      <td>2728.399902</td>\n",
       "      <td>194.557861</td>\n",
       "    </tr>\n",
       "  </tbody>\n",
       "</table>\n",
       "</div>"
      ],
      "text/plain": [
       "               LNTA.ME      MGNT.ME     MTSS.ME      YNDX.ME     SBER.ME\n",
       "Date                                                                    \n",
       "2019-12-02  203.399994  2861.976807  268.278503  2620.600098  176.292862\n",
       "2019-12-03  202.500000  2797.321777  265.866302  2599.000000  173.947525\n",
       "2019-12-04  201.899994  2810.956787  266.304871  2607.399902  174.648849\n",
       "2019-12-05  202.000000  2814.035400  266.743469  2568.399902  174.739349\n",
       "2019-12-06  200.800003  2821.072754  263.848846  2570.399902  177.326019\n",
       "2019-12-09  200.699997  2842.624756  265.339996  2584.000000  178.758865\n",
       "2019-12-10  200.300003  2844.823486  265.252289  2588.000000  179.414963\n",
       "2019-12-11  200.500000  2841.744873  267.708344  2595.000000  181.232407\n",
       "2019-12-12  197.800003  2845.703369  267.620605  2628.000000  181.782928\n",
       "2019-12-13  195.899994  2872.532959  267.006592  2662.800049  181.903595\n",
       "2019-12-16  197.000000  2872.532959  269.155640  2690.000000  182.084579\n",
       "2019-12-17  197.899994  2878.690430  272.971283  2660.000000  182.197693\n",
       "2019-12-18  193.600006  2877.371338  275.295776  2625.000000  185.666702\n",
       "2019-12-19  195.000000  2881.769531  273.936096  2623.199951  184.007599\n",
       "2019-12-20  194.000000  2900.242188  275.164185  2680.000000  184.543045\n",
       "2019-12-23  193.899994  2938.067627  275.471161  2699.800049  187.627426\n",
       "2019-12-24  194.199997  2965.777100  275.427307  2688.000000  187.529388\n",
       "2019-12-25  193.899994  3004.921875  278.979797  2687.000000  187.054276\n",
       "2019-12-26  194.100006  3033.950684  280.427124  2713.000000  187.205124\n",
       "2019-12-27  193.000000  3015.477783  280.690277  2736.000000  190.085876\n",
       "2019-12-30  192.000000  3012.838867  280.646423  2697.000000  192.114487\n",
       "2020-01-03  191.800003  3030.872070  282.532288  2685.000000  192.303024\n",
       "2020-01-06  192.000000  3004.921875  283.716492  2672.000000  191.473480\n",
       "2020-01-08  191.600006  3014.598145  287.839081  2677.000000  195.432678\n",
       "2020-01-09  192.000000  3077.274170  296.431305  2728.399902  194.557861"
      ]
     },
     "execution_count": 10,
     "metadata": {},
     "output_type": "execute_result"
    }
   ],
   "source": [
    "d\n"
   ]
  },
  {
   "cell_type": "code",
   "execution_count": 11,
   "metadata": {},
   "outputs": [
    {
     "name": "stdout",
     "output_type": "stream",
     "text": [
      "Requirement already satisfied: selenium in c:\\users\\proger\\anaconda3\\lib\\site-packages (3.141.0)\n",
      "Requirement already satisfied: urllib3 in c:\\users\\proger\\anaconda3\\lib\\site-packages (from selenium) (1.25.11)\n"
     ]
    }
   ],
   "source": [
    "!{sys.executable} -m pip install selenium"
   ]
  },
  {
   "cell_type": "code",
   "execution_count": 233,
   "metadata": {},
   "outputs": [
    {
     "name": "stdout",
     "output_type": "stream",
     "text": [
      "[*********************100%***********************]  1 of 1 completed\n"
     ]
    }
   ],
   "source": [
    "past_days= 60\n",
    "fut_days= 7\n",
    "t = ['LNTA.ME']\n",
    "datas = pd.DataFrame(columns=t)\n",
    "for ticker in t:\n",
    "    datas[ticker] = yf.download(ticker,'2018-01-01','2022-04-30')['Adj Close']"
   ]
  },
  {
   "cell_type": "code",
   "execution_count": 234,
   "metadata": {},
   "outputs": [],
   "source": [
    "d=datas['LNTA.ME']"
   ]
  },
  {
   "cell_type": "code",
   "execution_count": 235,
   "metadata": {},
   "outputs": [
    {
     "data": {
      "text/plain": [
       "Date\n",
       "2018-01-03    344.000000\n",
       "2018-01-04    356.500000\n",
       "2018-01-05    361.000000\n",
       "2018-01-09    353.000000\n",
       "2018-01-10    356.000000\n",
       "                 ...    \n",
       "2021-04-20    237.300003\n",
       "2021-04-21    238.300003\n",
       "2021-04-22    238.199997\n",
       "2021-04-23    241.500000\n",
       "2021-04-26    236.300003\n",
       "Name: LNTA.ME, Length: 830, dtype: float64"
      ]
     },
     "execution_count": 235,
     "metadata": {},
     "output_type": "execute_result"
    }
   ],
   "source": [
    "d"
   ]
  },
  {
   "cell_type": "code",
   "execution_count": 236,
   "metadata": {},
   "outputs": [],
   "source": [
    "start= past_days\n",
    "end= len(d)-fut_days\n",
    "cnt=end-start"
   ]
  },
  {
   "cell_type": "code",
   "execution_count": 237,
   "metadata": {},
   "outputs": [
    {
     "name": "stdout",
     "output_type": "stream",
     "text": [
      "Рассматриваем дни с 60 по 823 всего 763 примеров\n"
     ]
    }
   ],
   "source": [
    "print(\"Рассматриваем дни с {} по {} всего {} примеров\".format(start,end,cnt))"
   ]
  },
  {
   "cell_type": "code",
   "execution_count": 238,
   "metadata": {},
   "outputs": [],
   "source": [
    "past=[]\n",
    "fut=[]\n",
    "for i in range(start, end):\n",
    "    past_data= d[(i-past_days):i]\n",
    "    future_data = d[i:(i+fut_days)]\n",
    "    past.append(list(past_data))\n",
    "    fut.append(list(future_data))"
   ]
  },
  {
   "cell_type": "code",
   "execution_count": 239,
   "metadata": {},
   "outputs": [],
   "source": [
    "past_col=[]\n",
    "for i in range(past_days):\n",
    "    past_col.append(f\"past_{i}\")"
   ]
  },
  {
   "cell_type": "code",
   "execution_count": 240,
   "metadata": {},
   "outputs": [],
   "source": [
    "fut_col=[]\n",
    "for i in range(fut_days):\n",
    "    fut_col.append(f\"fut_{i}\")"
   ]
  },
  {
   "cell_type": "code",
   "execution_count": 241,
   "metadata": {},
   "outputs": [
    {
     "data": {
      "text/html": [
       "<div>\n",
       "<style scoped>\n",
       "    .dataframe tbody tr th:only-of-type {\n",
       "        vertical-align: middle;\n",
       "    }\n",
       "\n",
       "    .dataframe tbody tr th {\n",
       "        vertical-align: top;\n",
       "    }\n",
       "\n",
       "    .dataframe thead th {\n",
       "        text-align: right;\n",
       "    }\n",
       "</style>\n",
       "<table border=\"1\" class=\"dataframe\">\n",
       "  <thead>\n",
       "    <tr style=\"text-align: right;\">\n",
       "      <th></th>\n",
       "      <th>past_0</th>\n",
       "      <th>past_1</th>\n",
       "      <th>past_2</th>\n",
       "      <th>past_3</th>\n",
       "      <th>past_4</th>\n",
       "      <th>past_5</th>\n",
       "      <th>past_6</th>\n",
       "      <th>past_7</th>\n",
       "      <th>past_8</th>\n",
       "      <th>past_9</th>\n",
       "      <th>...</th>\n",
       "      <th>past_50</th>\n",
       "      <th>past_51</th>\n",
       "      <th>past_52</th>\n",
       "      <th>past_53</th>\n",
       "      <th>past_54</th>\n",
       "      <th>past_55</th>\n",
       "      <th>past_56</th>\n",
       "      <th>past_57</th>\n",
       "      <th>past_58</th>\n",
       "      <th>past_59</th>\n",
       "    </tr>\n",
       "  </thead>\n",
       "  <tbody>\n",
       "    <tr>\n",
       "      <th>0</th>\n",
       "      <td>344.0</td>\n",
       "      <td>356.5</td>\n",
       "      <td>361.0</td>\n",
       "      <td>353.0</td>\n",
       "      <td>356.0</td>\n",
       "      <td>358.0</td>\n",
       "      <td>354.0</td>\n",
       "      <td>355.5</td>\n",
       "      <td>369.0</td>\n",
       "      <td>372.0</td>\n",
       "      <td>...</td>\n",
       "      <td>329.0</td>\n",
       "      <td>336.0</td>\n",
       "      <td>331.0</td>\n",
       "      <td>329.5</td>\n",
       "      <td>336.0</td>\n",
       "      <td>339.0</td>\n",
       "      <td>335.5</td>\n",
       "      <td>345.0</td>\n",
       "      <td>344.0</td>\n",
       "      <td>345.0</td>\n",
       "    </tr>\n",
       "    <tr>\n",
       "      <th>1</th>\n",
       "      <td>356.5</td>\n",
       "      <td>361.0</td>\n",
       "      <td>353.0</td>\n",
       "      <td>356.0</td>\n",
       "      <td>358.0</td>\n",
       "      <td>354.0</td>\n",
       "      <td>355.5</td>\n",
       "      <td>369.0</td>\n",
       "      <td>372.0</td>\n",
       "      <td>369.0</td>\n",
       "      <td>...</td>\n",
       "      <td>336.0</td>\n",
       "      <td>331.0</td>\n",
       "      <td>329.5</td>\n",
       "      <td>336.0</td>\n",
       "      <td>339.0</td>\n",
       "      <td>335.5</td>\n",
       "      <td>345.0</td>\n",
       "      <td>344.0</td>\n",
       "      <td>345.0</td>\n",
       "      <td>337.0</td>\n",
       "    </tr>\n",
       "    <tr>\n",
       "      <th>2</th>\n",
       "      <td>361.0</td>\n",
       "      <td>353.0</td>\n",
       "      <td>356.0</td>\n",
       "      <td>358.0</td>\n",
       "      <td>354.0</td>\n",
       "      <td>355.5</td>\n",
       "      <td>369.0</td>\n",
       "      <td>372.0</td>\n",
       "      <td>369.0</td>\n",
       "      <td>369.5</td>\n",
       "      <td>...</td>\n",
       "      <td>331.0</td>\n",
       "      <td>329.5</td>\n",
       "      <td>336.0</td>\n",
       "      <td>339.0</td>\n",
       "      <td>335.5</td>\n",
       "      <td>345.0</td>\n",
       "      <td>344.0</td>\n",
       "      <td>345.0</td>\n",
       "      <td>337.0</td>\n",
       "      <td>337.5</td>\n",
       "    </tr>\n",
       "    <tr>\n",
       "      <th>3</th>\n",
       "      <td>353.0</td>\n",
       "      <td>356.0</td>\n",
       "      <td>358.0</td>\n",
       "      <td>354.0</td>\n",
       "      <td>355.5</td>\n",
       "      <td>369.0</td>\n",
       "      <td>372.0</td>\n",
       "      <td>369.0</td>\n",
       "      <td>369.5</td>\n",
       "      <td>378.0</td>\n",
       "      <td>...</td>\n",
       "      <td>329.5</td>\n",
       "      <td>336.0</td>\n",
       "      <td>339.0</td>\n",
       "      <td>335.5</td>\n",
       "      <td>345.0</td>\n",
       "      <td>344.0</td>\n",
       "      <td>345.0</td>\n",
       "      <td>337.0</td>\n",
       "      <td>337.5</td>\n",
       "      <td>339.0</td>\n",
       "    </tr>\n",
       "    <tr>\n",
       "      <th>4</th>\n",
       "      <td>356.0</td>\n",
       "      <td>358.0</td>\n",
       "      <td>354.0</td>\n",
       "      <td>355.5</td>\n",
       "      <td>369.0</td>\n",
       "      <td>372.0</td>\n",
       "      <td>369.0</td>\n",
       "      <td>369.5</td>\n",
       "      <td>378.0</td>\n",
       "      <td>398.0</td>\n",
       "      <td>...</td>\n",
       "      <td>336.0</td>\n",
       "      <td>339.0</td>\n",
       "      <td>335.5</td>\n",
       "      <td>345.0</td>\n",
       "      <td>344.0</td>\n",
       "      <td>345.0</td>\n",
       "      <td>337.0</td>\n",
       "      <td>337.5</td>\n",
       "      <td>339.0</td>\n",
       "      <td>337.5</td>\n",
       "    </tr>\n",
       "  </tbody>\n",
       "</table>\n",
       "<p>5 rows × 60 columns</p>\n",
       "</div>"
      ],
      "text/plain": [
       "   past_0  past_1  past_2  past_3  past_4  past_5  past_6  past_7  past_8  \\\n",
       "0   344.0   356.5   361.0   353.0   356.0   358.0   354.0   355.5   369.0   \n",
       "1   356.5   361.0   353.0   356.0   358.0   354.0   355.5   369.0   372.0   \n",
       "2   361.0   353.0   356.0   358.0   354.0   355.5   369.0   372.0   369.0   \n",
       "3   353.0   356.0   358.0   354.0   355.5   369.0   372.0   369.0   369.5   \n",
       "4   356.0   358.0   354.0   355.5   369.0   372.0   369.0   369.5   378.0   \n",
       "\n",
       "   past_9  ...  past_50  past_51  past_52  past_53  past_54  past_55  past_56  \\\n",
       "0   372.0  ...    329.0    336.0    331.0    329.5    336.0    339.0    335.5   \n",
       "1   369.0  ...    336.0    331.0    329.5    336.0    339.0    335.5    345.0   \n",
       "2   369.5  ...    331.0    329.5    336.0    339.0    335.5    345.0    344.0   \n",
       "3   378.0  ...    329.5    336.0    339.0    335.5    345.0    344.0    345.0   \n",
       "4   398.0  ...    336.0    339.0    335.5    345.0    344.0    345.0    337.0   \n",
       "\n",
       "   past_57  past_58  past_59  \n",
       "0    345.0    344.0    345.0  \n",
       "1    344.0    345.0    337.0  \n",
       "2    345.0    337.0    337.5  \n",
       "3    337.0    337.5    339.0  \n",
       "4    337.5    339.0    337.5  \n",
       "\n",
       "[5 rows x 60 columns]"
      ]
     },
     "execution_count": 241,
     "metadata": {},
     "output_type": "execute_result"
    }
   ],
   "source": [
    "X= pd.DataFrame(past, columns=past_col)\n",
    "X.head()"
   ]
  },
  {
   "cell_type": "code",
   "execution_count": 242,
   "metadata": {},
   "outputs": [
    {
     "data": {
      "text/html": [
       "<div>\n",
       "<style scoped>\n",
       "    .dataframe tbody tr th:only-of-type {\n",
       "        vertical-align: middle;\n",
       "    }\n",
       "\n",
       "    .dataframe tbody tr th {\n",
       "        vertical-align: top;\n",
       "    }\n",
       "\n",
       "    .dataframe thead th {\n",
       "        text-align: right;\n",
       "    }\n",
       "</style>\n",
       "<table border=\"1\" class=\"dataframe\">\n",
       "  <thead>\n",
       "    <tr style=\"text-align: right;\">\n",
       "      <th></th>\n",
       "      <th>fut_0</th>\n",
       "      <th>fut_1</th>\n",
       "      <th>fut_2</th>\n",
       "      <th>fut_3</th>\n",
       "      <th>fut_4</th>\n",
       "      <th>fut_5</th>\n",
       "      <th>fut_6</th>\n",
       "    </tr>\n",
       "  </thead>\n",
       "  <tbody>\n",
       "    <tr>\n",
       "      <th>0</th>\n",
       "      <td>337.0</td>\n",
       "      <td>337.5</td>\n",
       "      <td>339.0</td>\n",
       "      <td>337.5</td>\n",
       "      <td>313.0</td>\n",
       "      <td>314.0</td>\n",
       "      <td>313.0</td>\n",
       "    </tr>\n",
       "    <tr>\n",
       "      <th>1</th>\n",
       "      <td>337.5</td>\n",
       "      <td>339.0</td>\n",
       "      <td>337.5</td>\n",
       "      <td>313.0</td>\n",
       "      <td>314.0</td>\n",
       "      <td>313.0</td>\n",
       "      <td>333.0</td>\n",
       "    </tr>\n",
       "    <tr>\n",
       "      <th>2</th>\n",
       "      <td>339.0</td>\n",
       "      <td>337.5</td>\n",
       "      <td>313.0</td>\n",
       "      <td>314.0</td>\n",
       "      <td>313.0</td>\n",
       "      <td>333.0</td>\n",
       "      <td>334.0</td>\n",
       "    </tr>\n",
       "    <tr>\n",
       "      <th>3</th>\n",
       "      <td>337.5</td>\n",
       "      <td>313.0</td>\n",
       "      <td>314.0</td>\n",
       "      <td>313.0</td>\n",
       "      <td>333.0</td>\n",
       "      <td>334.0</td>\n",
       "      <td>329.0</td>\n",
       "    </tr>\n",
       "    <tr>\n",
       "      <th>4</th>\n",
       "      <td>313.0</td>\n",
       "      <td>314.0</td>\n",
       "      <td>313.0</td>\n",
       "      <td>333.0</td>\n",
       "      <td>334.0</td>\n",
       "      <td>329.0</td>\n",
       "      <td>338.5</td>\n",
       "    </tr>\n",
       "  </tbody>\n",
       "</table>\n",
       "</div>"
      ],
      "text/plain": [
       "   fut_0  fut_1  fut_2  fut_3  fut_4  fut_5  fut_6\n",
       "0  337.0  337.5  339.0  337.5  313.0  314.0  313.0\n",
       "1  337.5  339.0  337.5  313.0  314.0  313.0  333.0\n",
       "2  339.0  337.5  313.0  314.0  313.0  333.0  334.0\n",
       "3  337.5  313.0  314.0  313.0  333.0  334.0  329.0\n",
       "4  313.0  314.0  313.0  333.0  334.0  329.0  338.5"
      ]
     },
     "execution_count": 242,
     "metadata": {},
     "output_type": "execute_result"
    }
   ],
   "source": [
    "y= pd.DataFrame(fut, columns=fut_col)\n",
    "y.head()"
   ]
  },
  {
   "cell_type": "code",
   "execution_count": 243,
   "metadata": {},
   "outputs": [],
   "source": [
    "X_train = X[:-10]\n",
    "y_train = y[:-10]"
   ]
  },
  {
   "cell_type": "code",
   "execution_count": 244,
   "metadata": {},
   "outputs": [],
   "source": [
    "X_test = X[-10:]\n",
    "y_test = y[-10:]"
   ]
  },
  {
   "cell_type": "code",
   "execution_count": 245,
   "metadata": {},
   "outputs": [],
   "source": [
    "from sklearn.ensemble import RandomForestRegressor"
   ]
  },
  {
   "cell_type": "code",
   "execution_count": 246,
   "metadata": {},
   "outputs": [],
   "source": [
    "model = RandomForestRegressor()"
   ]
  },
  {
   "cell_type": "code",
   "execution_count": 247,
   "metadata": {},
   "outputs": [
    {
     "data": {
      "text/plain": [
       "RandomForestRegressor()"
      ]
     },
     "execution_count": 247,
     "metadata": {},
     "output_type": "execute_result"
    }
   ],
   "source": [
    "model.fit(X_train, y_train)"
   ]
  },
  {
   "cell_type": "code",
   "execution_count": 248,
   "metadata": {},
   "outputs": [],
   "source": [
    "prediction = model.predict(X_test)"
   ]
  },
  {
   "cell_type": "code",
   "execution_count": 249,
   "metadata": {},
   "outputs": [
    {
     "data": {
      "text/plain": [
       "array([[245.71299698, 245.37199951, 244.4440004 , 243.29700089,\n",
       "        242.19899933, 241.04199936, 239.18199921],\n",
       "       [245.2649971 , 244.58299942, 243.97200027, 242.96100128,\n",
       "        241.48499893, 240.74399933, 238.86999924],\n",
       "       [245.9469986 , 244.92999863, 244.0159993 , 243.01600082,\n",
       "        242.22799988, 241.63199951, 240.22099945],\n",
       "       [246.02699829, 245.48499847, 245.25299973, 244.46400101,\n",
       "        243.62600052, 243.01999985, 241.50199921],\n",
       "       [244.98099823, 243.91499863, 243.25299973, 242.07600098,\n",
       "        241.21100052, 240.36399963, 239.23899994],\n",
       "       [243.00299866, 241.63799911, 240.58800003, 238.62600021,\n",
       "        236.45100006, 234.79799957, 233.55100021],\n",
       "       [235.97799988, 233.90899887, 232.39299988, 230.64800018,\n",
       "        228.33199997, 227.03000061, 224.99700043],\n",
       "       [242.11599945, 241.02299927, 240.69100006, 237.40300034,\n",
       "        235.58199997, 233.88699966, 233.09100098],\n",
       "       [245.36299896, 244.04399887, 243.71999939, 242.09600021,\n",
       "        241.40300049, 240.88300003, 239.79500061],\n",
       "       [244.49399948, 243.19499924, 242.49899933, 241.19900024,\n",
       "        240.16400009, 239.64300018, 239.23300018]])"
      ]
     },
     "execution_count": 249,
     "metadata": {},
     "output_type": "execute_result"
    }
   ],
   "source": [
    "prediction"
   ]
  },
  {
   "cell_type": "code",
   "execution_count": 250,
   "metadata": {},
   "outputs": [],
   "source": [
    "from sklearn.metrics import mean_absolute_error"
   ]
  },
  {
   "cell_type": "code",
   "execution_count": 251,
   "metadata": {},
   "outputs": [],
   "source": [
    "mae=mean_absolute_error(prediction[0], y_test.iloc[0])"
   ]
  },
  {
   "cell_type": "code",
   "execution_count": 252,
   "metadata": {},
   "outputs": [
    {
     "data": {
      "text/plain": [
       "1.7512866210937463"
      ]
     },
     "execution_count": 252,
     "metadata": {},
     "output_type": "execute_result"
    }
   ],
   "source": [
    "mae"
   ]
  },
  {
   "cell_type": "code",
   "execution_count": 253,
   "metadata": {},
   "outputs": [
    {
     "data": {
      "text/plain": [
       "[245.71299697875978,\n",
       " 245.37199951171874,\n",
       " 244.4440003967285,\n",
       " 243.29700088500977,\n",
       " 242.19899932861327,\n",
       " 241.04199935913087,\n",
       " 239.18199920654297]"
      ]
     },
     "execution_count": 253,
     "metadata": {},
     "output_type": "execute_result"
    }
   ],
   "source": [
    "list(prediction[0])"
   ]
  },
  {
   "cell_type": "code",
   "execution_count": 254,
   "metadata": {},
   "outputs": [
    {
     "data": {
      "text/plain": [
       "[<matplotlib.lines.Line2D at 0x1b79f5e46d0>]"
      ]
     },
     "execution_count": 254,
     "metadata": {},
     "output_type": "execute_result"
    },
    {
     "data": {
      "image/png": "[encoded data removed]",
      "text/plain": [
       "<Figure size 432x288 with 1 Axes>"
      ]
     },
     "metadata": {
      "needs_background": "light"
     },
     "output_type": "display_data"
    }
   ],
   "source": [
    "import matplotlib.pyplot as plt\n",
    "plt.plot(prediction[6], label ='Prediction')\n",
    "plt.plot(y_test.iloc[6], label = \"Real\")"
   ]
  },
  {
   "cell_type": "code",
   "execution_count": 256,
   "metadata": {},
   "outputs": [],
   "source": [
    "def make_png(d):\n",
    "    source = ColumnDataSource(d)\n",
    "    df_columns = [d.index.name]\n",
    "    df_columns.extend(d.columns.values)\n",
    "    columns_for_table=[]\n",
    "    for column in df_columns:\n",
    "        columns_for_table.append(TableColumn(field=column, title=column))\n",
    "\n",
    "    data_table = DataTable(source=source, columns=columns_for_table,height_policy=\"auto\",width_policy=\"auto\",index_position=None)\n",
    "    export_png(data_table, filename = 'new.png')"
   ]
  },
  {
   "cell_type": "code",
   "execution_count": 264,
   "metadata": {},
   "outputs": [],
   "source": [
    "a=list(prediction[0])"
   ]
  },
  {
   "cell_type": "code",
   "execution_count": 266,
   "metadata": {},
   "outputs": [],
   "source": [
    "now = datetime.datetime.now()\n",
    "day_ = timedelta(days=1)\n",
    "dates=[]\n",
    "for i in range(7):\n",
    "    now=now+day_\n",
    "    dates.append(now.strftime(\"%Y-%m-%d\"))"
   ]
  },
  {
   "cell_type": "code",
   "execution_count": 268,
   "metadata": {},
   "outputs": [],
   "source": [
    "list_of_tuples = list(zip(dates, list(prediction[0])))"
   ]
  },
  {
   "cell_type": "code",
   "execution_count": 269,
   "metadata": {},
   "outputs": [
    {
     "data": {
      "text/plain": [
       "[('2021-04-27', 245.71299697875978),\n",
       " ('2021-04-28', 245.37199951171874),\n",
       " ('2021-04-29', 244.4440003967285),\n",
       " ('2021-04-30', 243.29700088500977),\n",
       " ('2021-05-01', 242.19899932861327),\n",
       " ('2021-05-02', 241.04199935913087),\n",
       " ('2021-05-03', 239.18199920654297)]"
      ]
     },
     "execution_count": 269,
     "metadata": {},
     "output_type": "execute_result"
    }
   ],
   "source": [
    "list_of_tuples"
   ]
  },
  {
   "cell_type": "code",
   "execution_count": 270,
   "metadata": {},
   "outputs": [],
   "source": [
    "df = pd.DataFrame(list_of_tuples, columns = ['Date', 'Cost, rubles']) "
   ]
  },
  {
   "cell_type": "code",
   "execution_count": 271,
   "metadata": {},
   "outputs": [],
   "source": [
    "make_png(df)"
   ]
  },
  {
   "cell_type": "code",
   "execution_count": 272,
   "metadata": {},
   "outputs": [
    {
     "data": {
      "text/html": [
       "<div>\n",
       "<style scoped>\n",
       "    .dataframe tbody tr th:only-of-type {\n",
       "        vertical-align: middle;\n",
       "    }\n",
       "\n",
       "    .dataframe tbody tr th {\n",
       "        vertical-align: top;\n",
       "    }\n",
       "\n",
       "    .dataframe thead th {\n",
       "        text-align: right;\n",
       "    }\n",
       "</style>\n",
       "<table border=\"1\" class=\"dataframe\">\n",
       "  <thead>\n",
       "    <tr style=\"text-align: right;\">\n",
       "      <th></th>\n",
       "      <th>Date</th>\n",
       "      <th>Cost, rubles</th>\n",
       "    </tr>\n",
       "  </thead>\n",
       "  <tbody>\n",
       "    <tr>\n",
       "      <th>0</th>\n",
       "      <td>2021-04-27</td>\n",
       "      <td>245.712997</td>\n",
       "    </tr>\n",
       "    <tr>\n",
       "      <th>1</th>\n",
       "      <td>2021-04-28</td>\n",
       "      <td>245.372000</td>\n",
       "    </tr>\n",
       "    <tr>\n",
       "      <th>2</th>\n",
       "      <td>2021-04-29</td>\n",
       "      <td>244.444000</td>\n",
       "    </tr>\n",
       "    <tr>\n",
       "      <th>3</th>\n",
       "      <td>2021-04-30</td>\n",
       "      <td>243.297001</td>\n",
       "    </tr>\n",
       "    <tr>\n",
       "      <th>4</th>\n",
       "      <td>2021-05-01</td>\n",
       "      <td>242.198999</td>\n",
       "    </tr>\n",
       "    <tr>\n",
       "      <th>5</th>\n",
       "      <td>2021-05-02</td>\n",
       "      <td>241.041999</td>\n",
       "    </tr>\n",
       "    <tr>\n",
       "      <th>6</th>\n",
       "      <td>2021-05-03</td>\n",
       "      <td>239.181999</td>\n",
       "    </tr>\n",
       "  </tbody>\n",
       "</table>\n",
       "</div>"
      ],
      "text/plain": [
       "         Date  Cost, rubles\n",
       "0  2021-04-27    245.712997\n",
       "1  2021-04-28    245.372000\n",
       "2  2021-04-29    244.444000\n",
       "3  2021-04-30    243.297001\n",
       "4  2021-05-01    242.198999\n",
       "5  2021-05-02    241.041999\n",
       "6  2021-05-03    239.181999"
      ]
     },
     "execution_count": 272,
     "metadata": {},
     "output_type": "execute_result"
    }
   ],
   "source": [
    "df"
   ]
  },
  {
   "cell_type": "code",
   "execution_count": 273,
   "metadata": {},
   "outputs": [],
   "source": [
    "df.set_index('Date', inplace=True)"
   ]
  },
  {
   "cell_type": "code",
   "execution_count": 274,
   "metadata": {},
   "outputs": [
    {
     "data": {
      "text/html": [
       "<div>\n",
       "<style scoped>\n",
       "    .dataframe tbody tr th:only-of-type {\n",
       "        vertical-align: middle;\n",
       "    }\n",
       "\n",
       "    .dataframe tbody tr th {\n",
       "        vertical-align: top;\n",
       "    }\n",
       "\n",
       "    .dataframe thead th {\n",
       "        text-align: right;\n",
       "    }\n",
       "</style>\n",
       "<table border=\"1\" class=\"dataframe\">\n",
       "  <thead>\n",
       "    <tr style=\"text-align: right;\">\n",
       "      <th></th>\n",
       "      <th>Cost, rubles</th>\n",
       "    </tr>\n",
       "    <tr>\n",
       "      <th>Date</th>\n",
       "      <th></th>\n",
       "    </tr>\n",
       "  </thead>\n",
       "  <tbody>\n",
       "    <tr>\n",
       "      <th>2021-04-27</th>\n",
       "      <td>245.712997</td>\n",
       "    </tr>\n",
       "    <tr>\n",
       "      <th>2021-04-28</th>\n",
       "      <td>245.372000</td>\n",
       "    </tr>\n",
       "    <tr>\n",
       "      <th>2021-04-29</th>\n",
       "      <td>244.444000</td>\n",
       "    </tr>\n",
       "    <tr>\n",
       "      <th>2021-04-30</th>\n",
       "      <td>243.297001</td>\n",
       "    </tr>\n",
       "    <tr>\n",
       "      <th>2021-05-01</th>\n",
       "      <td>242.198999</td>\n",
       "    </tr>\n",
       "    <tr>\n",
       "      <th>2021-05-02</th>\n",
       "      <td>241.041999</td>\n",
       "    </tr>\n",
       "    <tr>\n",
       "      <th>2021-05-03</th>\n",
       "      <td>239.181999</td>\n",
       "    </tr>\n",
       "  </tbody>\n",
       "</table>\n",
       "</div>"
      ],
      "text/plain": [
       "            Cost, rubles\n",
       "Date                    \n",
       "2021-04-27    245.712997\n",
       "2021-04-28    245.372000\n",
       "2021-04-29    244.444000\n",
       "2021-04-30    243.297001\n",
       "2021-05-01    242.198999\n",
       "2021-05-02    241.041999\n",
       "2021-05-03    239.181999"
      ]
     },
     "execution_count": 274,
     "metadata": {},
     "output_type": "execute_result"
    }
   ],
   "source": [
    "df"
   ]
  },
  {
   "cell_type": "code",
   "execution_count": 275,
   "metadata": {},
   "outputs": [],
   "source": [
    "make_png(df)"
   ]
  },
  {
   "cell_type": "code",
   "execution_count": null,
   "metadata": {},
   "outputs": [],
   "source": []
  }
 ],
 "metadata": {
  "kernelspec": {
   "display_name": "Python 3",
   "language": "python",
   "name": "python3"
  },
  "language_info": {
   "codemirror_mode": {
    "name": "ipython",
    "version": 3
   },
   "file_extension": ".py",
   "mimetype": "text/x-python",
   "name": "python",
   "nbconvert_exporter": "python",
   "pygments_lexer": "ipython3",
   "version": "3.8.5"
  }
 },
 "nbformat": 4,
 "nbformat_minor": 4
}
