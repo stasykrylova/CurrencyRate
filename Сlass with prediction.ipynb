{
 "cells": [
  {
   "cell_type": "code",
   "execution_count": 2,
   "metadata": {},
   "outputs": [],
   "source": [
    "import yfinance as yf\n",
    "import matplotlib.pyplot as plt\n",
    "import datetime\n",
    "from datetime import timedelta\n",
    "import pandas as pd\n",
    "from sklearn.ensemble import RandomForestRegressor\n",
    "from bokeh.io import export_png, export_svgs\n",
    "from bokeh.models import ColumnDataSource, DataTable, TableColumn"
   ]
  },
  {
   "cell_type": "markdown",
   "metadata": {},
   "source": [
    "Нужно добавить максимальное количество русских акций и сделать словарь"
   ]
  },
  {
   "cell_type": "code",
   "execution_count": 7,
   "metadata": {},
   "outputs": [],
   "source": [
    "class Prediction:\n",
    "    tickers_list = {\"лента\":'LNTA.ME',\"магнит\":'MGNT.ME',\"мтс\": 'MTSS.ME',\"яндекс\": 'YNDX.ME',\"сбербанк\": 'SBER.ME', \"рубль\": '6RM21.CME' } \n",
    "    def __init__(self, name):\n",
    "        print(\"New pred\")\n",
    "        self.columns=[]\n",
    "        self.stock = self.tickers_list.get(name)\n",
    "        self.columns.append(self.stock)\n",
    "        self.now = datetime.datetime.now()\n",
    "        print(self.stock)\n",
    "    def prepare_data(self):\n",
    "        datas = pd.DataFrame(columns=self.columns)\n",
    "        delta_ = timedelta(days=1400)\n",
    "        start_time=self.now - delta_\n",
    "        delta_= timedelta(days=30)\n",
    "        end_time =self.now + delta_\n",
    "        post_start=start_time.strftime(\"%Y-%m-%d\")\n",
    "        post_end = end_time.strftime(\"%Y-%m-%d\")\n",
    "        for ticker in self.columns:\n",
    "            datas[ticker] = yf.download(ticker,post_start,post_end)['Adj Close']\n",
    "        datas= datas['6RM21.CME']\n",
    "        past_days= 60\n",
    "        fut_days= 7\n",
    "        start= past_days\n",
    "        end= len(datas)-fut_days\n",
    "        cnt=end-start\n",
    "        print(\"Рассматриваем дни с {} по {} всего {} примеров\".format(start,end,cnt))\n",
    "        past=[]\n",
    "        fut=[]\n",
    "        for i in range(start, end):\n",
    "            past_data= datas[(i-past_days):i]\n",
    "            future_data = datas[i:(i+fut_days)]\n",
    "            past.append(list(past_data))\n",
    "            fut.append(list(future_data))\n",
    "        past_col=[]\n",
    "        for i in range(past_days):\n",
    "            past_col.append(f\"past_{i}\")\n",
    "        fut_col=[]\n",
    "        for i in range(fut_days):\n",
    "            fut_col.append(f\"fut_{i}\")\n",
    "        X= pd.DataFrame(past, columns=past_col)\n",
    "        y= pd.DataFrame(fut, columns=fut_col)\n",
    "        self.X_train = X[:-10]\n",
    "        self.y_train = y[:-10]\n",
    "        self.X_test = X[-10:]\n",
    "    def predict(self):\n",
    "        model = RandomForestRegressor()\n",
    "        model.fit(self.X_train, self.y_train)\n",
    "        self.prediction = model.predict(self.X_test)\n",
    "        print(self.prediction)\n",
    "    def make_table(self):\n",
    "        day_ = timedelta(days=1)\n",
    "        dates=[]\n",
    "        for i in range(7):\n",
    "            self.now=self.now+day_\n",
    "            dates.append(self.now.strftime(\"%d-%m\"))\n",
    "        list_of_tuples = list(zip(dates, list(self.prediction[6])))\n",
    "        self.made_df = pd.DataFrame(list_of_tuples, columns = ['Date', 'Cost, rubles'])\n",
    "        self.made_df.set_index('Date', inplace=True)\n",
    "    def make_png(self):\n",
    "        source = ColumnDataSource(self.made_df)\n",
    "        df_columns = [self.made_df.index.name]\n",
    "        df_columns.extend(self.made_df.columns.values)\n",
    "        columns_for_table=[]\n",
    "        for column in df_columns:\n",
    "            columns_for_table.append(TableColumn(field=column, title=column))\n",
    "        data_table = DataTable(source=source, columns=columns_for_table,height_policy=\"auto\",width_policy=\"auto\",index_position=None)\n",
    "        export_png(data_table, filename = 'new.png')\n",
    "    def make_diagram(self):\n",
    "        plt.plot(self.made_df, label ='Prediction')\n",
    "        plt.savefig('saved_figure.png')"
   ]
  },
  {
   "cell_type": "code",
   "execution_count": 8,
   "metadata": {},
   "outputs": [
    {
     "name": "stdout",
     "output_type": "stream",
     "text": [
      "New pred\n",
      "6RM21.CME\n",
      "[*********************100%***********************]  1 of 1 completed\n",
      "Рассматриваем дни с 60 по 949 всего 889 примеров\n",
      "[[0.01304955 0.01307735 0.0130823  0.01308395 0.0131143  0.0130976\n",
      "  0.01310045]\n",
      " [0.0130757  0.0130951  0.0131139  0.01312695 0.0131523  0.01313455\n",
      "  0.01312745]\n",
      " [0.01290125 0.0129506  0.0129718  0.0129997  0.0130196  0.0130359\n",
      "  0.0130522 ]\n",
      " [0.0129609  0.0130001  0.0130225  0.0130454  0.013067   0.0130599\n",
      "  0.0130616 ]\n",
      " [0.01295895 0.01299315 0.0130174  0.0130253  0.01305205 0.01303525\n",
      "  0.013027  ]\n",
      " [0.0128674  0.0129079  0.012937   0.01296265 0.0130056  0.01302235\n",
      "  0.01303695]\n",
      " [0.0128719  0.01290135 0.01292525 0.0129336  0.012958   0.01296515\n",
      "  0.01297485]\n",
      " [0.0130485  0.0130616  0.0130592  0.01306405 0.0130483  0.01304705\n",
      "  0.0130233 ]\n",
      " [0.01306835 0.01308885 0.01308195 0.0130783  0.01308015 0.01307125\n",
      "  0.01305565]\n",
      " [0.0130152  0.0130187  0.01302115 0.0130266  0.01301675 0.01300165\n",
      "  0.01297795]]\n"
     ]
    },
    {
     "data": {
      "image/png": "[encoded data removed]",
      "text/plain": [
       "<Figure size 432x288 with 1 Axes>"
      ]
     },
     "metadata": {
      "needs_background": "light"
     },
     "output_type": "display_data"
    }
   ],
   "source": [
    "P=Prediction('рубль')\n",
    "P.prepare_data()\n",
    "P.predict()\n",
    "P.make_table()\n",
    "P.make_png()\n",
    "P.make_diagram()"
   ]
  },
  {
   "cell_type": "code",
   "execution_count": null,
   "metadata": {},
   "outputs": [],
   "source": []
  },
  {
   "cell_type": "code",
   "execution_count": null,
   "metadata": {},
   "outputs": [],
   "source": []
  }
 ],
 "metadata": {
  "kernelspec": {
   "display_name": "Python 3",
   "language": "python",
   "name": "python3"
  },
  "language_info": {
   "codemirror_mode": {
    "name": "ipython",
    "version": 3
   },
   "file_extension": ".py",
   "mimetype": "text/x-python",
   "name": "python",
   "nbconvert_exporter": "python",
   "pygments_lexer": "ipython3",
   "version": "3.8.5"
  }
 },
 "nbformat": 4,
 "nbformat_minor": 4
}
